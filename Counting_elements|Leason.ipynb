{
  "nbformat": 4,
  "nbformat_minor": 0,
  "metadata": {
    "colab": {
      "provenance": [],
      "authorship_tag": "ABX9TyOsydSjTJkISNewTg4aBtub",
      "include_colab_link": true
    },
    "kernelspec": {
      "name": "python3",
      "display_name": "Python 3"
    },
    "language_info": {
      "name": "python"
    }
  },
  "cells": [
    {
      "cell_type": "markdown",
      "metadata": {
        "id": "view-in-github",
        "colab_type": "text"
      },
      "source": [
        "<a href=\"https://colab.research.google.com/github/Morsalah/Codility_Python-Probelms-Practice/blob/main/Counting_elements%7CLeason.ipynb\" target=\"_parent\"><img src=\"https://colab.research.google.com/assets/colab-badge.svg\" alt=\"Open In Colab\"/></a>"
      ]
    },
    {
      "cell_type": "code",
      "execution_count": 6,
      "metadata": {
        "colab": {
          "base_uri": "https://localhost:8080/"
        },
        "id": "vumx4lTo9cGn",
        "outputId": "e245661e-a255-45fb-941a-7ad713da8978"
      },
      "outputs": [
        {
          "output_type": "execute_result",
          "data": {
            "text/plain": [
              "[1, 3, 1, 1]"
            ]
          },
          "metadata": {},
          "execution_count": 6
        }
      ],
      "source": [
        "def counting(A, m):\n",
        "    n = len(A)\n",
        "    count = [0] * (m + 1)\n",
        "    for k in range(n):\n",
        "        count[A[k]] += 1\n",
        "    return count\n",
        "\n",
        "counting([1, 2, 1, 0, 3, 1], 3)\n"
      ]
    },
    {
      "cell_type": "markdown",
      "source": [
        "**Result Explanation :**\n",
        "\n",
        "0 appears 1 time in A.\n",
        "\n",
        "1 appears 3 times in A.\n",
        "\n",
        "2 appears 1 time in A.\n",
        "\n",
        "3 appears 1 time in A."
      ],
      "metadata": {
        "id": "s7MuDb6SDS42"
      }
    },
    {
      "cell_type": "markdown",
      "source": [
        "**Exercise**"
      ],
      "metadata": {
        "id": "5M39WuNqIQeq"
      }
    },
    {
      "cell_type": "markdown",
      "source": [
        "Slow algorithm:\n",
        "𝑂\n",
        "(\n",
        "𝑛\n",
        "2\n",
        ")\n"
      ],
      "metadata": {
        "id": "pCxulcDnfqWI"
      }
    },
    {
      "cell_type": "code",
      "source": [
        "def slow_solution(A, B, m):\n",
        "    n = len(A)\n",
        "    sumA = sum(A)\n",
        "    sumB = sum(B)\n",
        "    d = abs(sumA - sumB)\n",
        "    if d % 2 == 1:\n",
        "        return False\n",
        "    d //= 2\n",
        "    setA = set(A)\n",
        "    setB = set(B)\n",
        "    # Case 1: sumA > sumB\n",
        "    if sumA > sumB:\n",
        "        for b in B:\n",
        "            if (b + d) in setA:\n",
        "                sumA -= (b + d)\n",
        "                sumA += b\n",
        "                sumB -= b\n",
        "                sumB += (b + d)\n",
        "                return True\n",
        "        return False\n",
        "    # Case 2: sumA < sumB\n",
        "    for a in A:\n",
        "        if (a + d) in setB:\n",
        "            sumA -= a\n",
        "            sumA += (a + d)\n",
        "            sumB -= (a + d)\n",
        "            sumB += a\n",
        "            return True\n",
        "    return False\n"
      ],
      "metadata": {
        "id": "FSKrSgudfKn4"
      },
      "execution_count": null,
      "outputs": []
    },
    {
      "cell_type": "markdown",
      "source": [
        "Fast algorithm:\n",
        "𝑂\n",
        "(\n",
        "𝑛\n",
        "+\n",
        "𝑚\n",
        ")\n"
      ],
      "metadata": {
        "id": "p1FVrJwRfxWX"
      }
    },
    {
      "cell_type": "code",
      "source": [
        "def fast_solution(A, B, m):\n",
        "    n = len(A)\n",
        "    sum_a = sum(A)\n",
        "    sum_b = sum(B)\n",
        "    d = sum_b - sum_a\n",
        "    if d % 2 == 1:\n",
        "        return False\n",
        "    d //= 2\n",
        "    count = counting(A, m)\n",
        "    for i in range(n):\n",
        "        if 0 <= B[i] - d <= m and count[B[i] - d] > 0:\n",
        "            return True\n",
        "    return False\n"
      ],
      "metadata": {
        "id": "rd3ESCO1RAVs"
      },
      "execution_count": null,
      "outputs": []
    }
  ]
}