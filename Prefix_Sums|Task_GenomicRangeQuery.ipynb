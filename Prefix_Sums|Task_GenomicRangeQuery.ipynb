{
  "nbformat": 4,
  "nbformat_minor": 0,
  "metadata": {
    "colab": {
      "provenance": [],
      "authorship_tag": "ABX9TyPwa3kad6eTDuCkbX3p6PtX",
      "include_colab_link": true
    },
    "kernelspec": {
      "name": "python3",
      "display_name": "Python 3"
    },
    "language_info": {
      "name": "python"
    }
  },
  "cells": [
    {
      "cell_type": "markdown",
      "metadata": {
        "id": "view-in-github",
        "colab_type": "text"
      },
      "source": [
        "<a href=\"https://colab.research.google.com/github/Morsalah/Codility_Python-Probelms-Practice/blob/main/Prefix_Sums%7CTask_GenomicRangeQuery.ipynb\" target=\"_parent\"><img src=\"https://colab.research.google.com/assets/colab-badge.svg\" alt=\"Open In Colab\"/></a>"
      ]
    },
    {
      "cell_type": "markdown",
      "source": [
        "**GenomicRangeQuery**\n",
        "\n",
        "Find the minimal nucleotide from a range of sequence DNA.\n",
        "\n"
      ],
      "metadata": {
        "id": "HqzY2Az1uRiF"
      }
    },
    {
      "cell_type": "code",
      "execution_count": null,
      "metadata": {
        "id": "WI_Kfj03t9MK"
      },
      "outputs": [],
      "source": [
        "def solution(S, P, Q):\n",
        "    nuc = {\"A\": 1, \"C\": 2, \"G\": 3, \"T\": 4}\n",
        "    min_impact = []\n",
        "\n",
        "    for i in range(len(P)):\n",
        "        val = float('inf')\n",
        "        for nucleotide in S[P[i]:Q[i] + 1]:\n",
        "            impact = nuc.get(nucleotide)\n",
        "            if impact < val:\n",
        "                val = impact\n",
        "        min_impact.append(val)\n",
        "\n",
        "    return min_impact\n"
      ]
    },
    {
      "cell_type": "markdown",
      "source": [
        "Time Complexity:\n",
        "\n",
        "O(len(S)xlen(P))"
      ],
      "metadata": {
        "id": "l2N943_Q7GZm"
      }
    },
    {
      "cell_type": "code",
      "source": [
        "def solution(S, P, Q):\n",
        "    nuc = {\"A\": 1, \"C\": 2, \"G\": 3, \"T\": 4}\n",
        "    prefix = [[0] * 5 for _ in range(len(S) + 1)]\n",
        "    for i in range(1, len(S) + 1):\n",
        "        nucleotide = S[i - 1]\n",
        "        for j in range(1, 5):\n",
        "            prefix[i][j] = prefix[i - 1][j]\n",
        "        prefix[i][nuc[nucleotide]] += 1\n",
        "    min_impact = []\n",
        "    for i in range(len(P)):\n",
        "        for j in range(1, 5):\n",
        "            if prefix[Q[i] + 1][j] - prefix[P[i]][j] > 0:\n",
        "                min_impact.append(j)\n",
        "                break\n",
        "\n",
        "    return min_impact\n"
      ],
      "metadata": {
        "colab": {
          "base_uri": "https://localhost:8080/"
        },
        "id": "jgIzpLpF7HWe",
        "outputId": "17af61b3-f6c7-4564-a59e-670c53f4fb45"
      },
      "execution_count": 3,
      "outputs": [
        {
          "output_type": "stream",
          "name": "stdout",
          "text": [
            "0\n",
            "0\n",
            "0\n",
            "0\n"
          ]
        },
        {
          "output_type": "execute_result",
          "data": {
            "text/plain": [
              "[]"
            ]
          },
          "metadata": {},
          "execution_count": 3
        }
      ]
    }
  ]
}