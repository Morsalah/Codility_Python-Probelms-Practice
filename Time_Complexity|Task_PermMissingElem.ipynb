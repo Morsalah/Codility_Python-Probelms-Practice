{
  "nbformat": 4,
  "nbformat_minor": 0,
  "metadata": {
    "colab": {
      "provenance": [],
      "authorship_tag": "ABX9TyPXjsHAmAxRT8ChXA4w6vXY",
      "include_colab_link": true
    },
    "kernelspec": {
      "name": "python3",
      "display_name": "Python 3"
    },
    "language_info": {
      "name": "python"
    }
  },
  "cells": [
    {
      "cell_type": "markdown",
      "metadata": {
        "id": "view-in-github",
        "colab_type": "text"
      },
      "source": [
        "<a href=\"https://colab.research.google.com/github/Morsalah/Codility_Python-Probelms-Practice/blob/main/Time_Complexity%7CTask_PermMissingElem.ipynb\" target=\"_parent\"><img src=\"https://colab.research.google.com/assets/colab-badge.svg\" alt=\"Open In Colab\"/></a>"
      ]
    },
    {
      "cell_type": "markdown",
      "source": [
        "**PermMissingElem**\n",
        "\n",
        "Find the missing element in a given permutation."
      ],
      "metadata": {
        "id": "gSbTpWW8U32K"
      }
    },
    {
      "cell_type": "code",
      "execution_count": 2,
      "metadata": {
        "colab": {
          "base_uri": "https://localhost:8080/"
        },
        "id": "421ThheWU1nk",
        "outputId": "ca4c1c86-1195-48eb-c4ce-2fe45e71f4c3"
      },
      "outputs": [
        {
          "output_type": "execute_result",
          "data": {
            "text/plain": [
              "4"
            ]
          },
          "metadata": {},
          "execution_count": 2
        }
      ],
      "source": [
        "def solution(A):\n",
        "    B = set(range(1, len(A) + 2))\n",
        "    missing_element = B.difference(A).pop()\n",
        "    return missing_element\n",
        "\n",
        "solution([2,3,1,5])\n"
      ]
    }
  ]
}