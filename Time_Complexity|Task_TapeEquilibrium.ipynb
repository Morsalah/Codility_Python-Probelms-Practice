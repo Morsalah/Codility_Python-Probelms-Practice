{
  "nbformat": 4,
  "nbformat_minor": 0,
  "metadata": {
    "colab": {
      "provenance": [],
      "authorship_tag": "ABX9TyMvMUqZwe0OTdGXHevI92YE",
      "include_colab_link": true
    },
    "kernelspec": {
      "name": "python3",
      "display_name": "Python 3"
    },
    "language_info": {
      "name": "python"
    }
  },
  "cells": [
    {
      "cell_type": "markdown",
      "metadata": {
        "id": "view-in-github",
        "colab_type": "text"
      },
      "source": [
        "<a href=\"https://colab.research.google.com/github/Morsalah/Codility_Python-Probelms-Practice/blob/main/Time_Complexity%7CTask_TapeEquilibrium.ipynb\" target=\"_parent\"><img src=\"https://colab.research.google.com/assets/colab-badge.svg\" alt=\"Open In Colab\"/></a>"
      ]
    },
    {
      "cell_type": "code",
      "execution_count": null,
      "metadata": {
        "id": "LZF9pLRzggAO"
      },
      "outputs": [],
      "source": [
        "def solution(A):\n",
        "    N = len(A)\n",
        "    total_sum = sum(A)\n",
        "    left_sum = 0\n",
        "    min_diff = float('inf')\n",
        "\n",
        "    for i in range(1, N):\n",
        "        left_sum += A[i - 1]\n",
        "        right_sum = total_sum - left_sum\n",
        "        diff = abs(left_sum - right_sum)\n",
        "\n",
        "        if diff < min_diff:\n",
        "            min_diff = diff\n",
        "\n",
        "    return min_diff\n"
      ]
    }
  ]
}