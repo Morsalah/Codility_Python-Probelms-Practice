{
  "nbformat": 4,
  "nbformat_minor": 0,
  "metadata": {
    "colab": {
      "provenance": [],
      "authorship_tag": "ABX9TyN0mUjVrKgPbyagObe7a1QZ",
      "include_colab_link": true
    },
    "kernelspec": {
      "name": "python3",
      "display_name": "Python 3"
    },
    "language_info": {
      "name": "python"
    }
  },
  "cells": [
    {
      "cell_type": "markdown",
      "metadata": {
        "id": "view-in-github",
        "colab_type": "text"
      },
      "source": [
        "<a href=\"https://colab.research.google.com/github/Morsalah/Codility_Python-Probelms-Practice/blob/main/Iterations%7CLesson.ipynb\" target=\"_parent\"><img src=\"https://colab.research.google.com/assets/colab-badge.svg\" alt=\"Open In Colab\"/></a>"
      ]
    },
    {
      "cell_type": "markdown",
      "source": [
        "# 1.1 For loops"
      ],
      "metadata": {
        "id": "wIakIOOFMCyS"
      }
    },
    {
      "cell_type": "code",
      "execution_count": null,
      "metadata": {
        "id": "gBO26HOVLpTD"
      },
      "outputs": [],
      "source": [
        "for i in range (0,101):\n",
        "  print(i)"
      ]
    },
    {
      "cell_type": "code",
      "source": [
        "for i in range(100):\n",
        "  print(i)"
      ],
      "metadata": {
        "id": "xoThEjADMerE"
      },
      "execution_count": null,
      "outputs": []
    },
    {
      "cell_type": "markdown",
      "source": [
        "Example"
      ],
      "metadata": {
        "id": "rJh-N1iINqri"
      }
    },
    {
      "cell_type": "code",
      "source": [
        "factorial = 1\n",
        "n = 5\n",
        "for i in range(1,n+1):\n",
        "  print(\"now i is= \",i)\n",
        "  factorial = factorial*i\n",
        "  print(\"now facotial is = \",factorial)\n",
        "print(\"total\",factorial)"
      ],
      "metadata": {
        "id": "cqd7ZzxfMx1w"
      },
      "execution_count": null,
      "outputs": []
    },
    {
      "cell_type": "markdown",
      "source": [
        "Example"
      ],
      "metadata": {
        "id": "Tnv874A9Ntxe"
      }
    },
    {
      "cell_type": "code",
      "source": [
        "n = 4\n",
        "for i in range(1,n+1):\n",
        "  print(i*' * ')"
      ],
      "metadata": {
        "id": "GaPZd99aNpds"
      },
      "execution_count": null,
      "outputs": []
    },
    {
      "cell_type": "code",
      "source": [
        "n = 10\n",
        "for i in range(10,0,-1):\n",
        "  print(i)"
      ],
      "metadata": {
        "id": "Di7Q5PFMPDeh"
      },
      "execution_count": null,
      "outputs": []
    },
    {
      "cell_type": "markdown",
      "source": [
        "Example"
      ],
      "metadata": {
        "id": "waH5QnAEPt87"
      }
    },
    {
      "cell_type": "code",
      "source": [
        "n = 1000\n",
        "print('i have',n,'apples',sep='*')\n"
      ],
      "metadata": {
        "colab": {
          "base_uri": "https://localhost:8080/"
        },
        "id": "84wx86UfdilF",
        "outputId": "704cbe50-abca-41d3-d465-47422968a440"
      },
      "execution_count": 83,
      "outputs": [
        {
          "output_type": "stream",
          "name": "stdout",
          "text": [
            "i have*1000*apples\n",
            "i have\n",
            "500\n",
            "apples\n"
          ]
        }
      ]
    },
    {
      "cell_type": "code",
      "source": [
        "x = 500\n",
        "print(\"i have\",x,\"apples\",sep=\"\\n\")"
      ],
      "metadata": {
        "id": "UWj8ewq0eX9q"
      },
      "execution_count": null,
      "outputs": []
    },
    {
      "cell_type": "code",
      "source": [
        "# Total number of rows in the pattern\n",
        "n = 4\n",
        "\n",
        "for i in range(n):\n",
        "    print(\"  \" * i, end=\"\")\n",
        "    print(\"* \" * (2 * (n - i) - 1))\n"
      ],
      "metadata": {
        "colab": {
          "base_uri": "https://localhost:8080/"
        },
        "id": "10MuIAnsipsJ",
        "outputId": "3de926a4-fbe1-48e0-996c-c0c727e6ad97"
      },
      "execution_count": 118,
      "outputs": [
        {
          "output_type": "stream",
          "name": "stdout",
          "text": [
            "* * * * * * * \n",
            "  * * * * * \n",
            "    * * * \n",
            "      * \n"
          ]
        }
      ]
    },
    {
      "cell_type": "markdown",
      "source": [
        "# 1.2. While loops"
      ],
      "metadata": {
        "id": "JD4wWf-4jDwK"
      }
    },
    {
      "cell_type": "markdown",
      "source": [
        "Example"
      ],
      "metadata": {
        "id": "wYcqdPGqlymt"
      }
    },
    {
      "cell_type": "code",
      "source": [
        "n=1247\n",
        "result = 0\n",
        "while n>0:\n",
        "  #print(n)\n",
        "  n=n//10\n",
        "  result=result+1\n",
        "print(result)"
      ],
      "metadata": {
        "colab": {
          "base_uri": "https://localhost:8080/"
        },
        "id": "O93ouIynkO6q",
        "outputId": "3158e0fb-083e-4d58-bd88-4255fdf55d40"
      },
      "execution_count": 122,
      "outputs": [
        {
          "output_type": "stream",
          "name": "stdout",
          "text": [
            "1247\n",
            "124\n",
            "12\n",
            "1\n",
            "4\n"
          ]
        }
      ]
    },
    {
      "cell_type": "markdown",
      "source": [
        "Example"
      ],
      "metadata": {
        "id": "u_lc5Zisl0Wy"
      }
    },
    {
      "cell_type": "code",
      "source": [
        "item1 = 0\n",
        "item2 = 1\n",
        "n = 5\n",
        "while item1<= n:\n",
        "  print(item1,end=\" \")\n",
        "  item1,item2 = item2,item1+item2\n"
      ],
      "metadata": {
        "colab": {
          "base_uri": "https://localhost:8080/"
        },
        "id": "ZPAuFIZ6l2a4",
        "outputId": "68d07776-54b2-47f0-ee2b-e946a65a3b21"
      },
      "execution_count": 143,
      "outputs": [
        {
          "output_type": "stream",
          "name": "stdout",
          "text": [
            "0 1 1 2 3 5 "
          ]
        }
      ]
    },
    {
      "cell_type": "markdown",
      "source": [
        "# 1.3. Looping over collections of values"
      ],
      "metadata": {
        "id": "9qLtSIBbqdav"
      }
    },
    {
      "cell_type": "code",
      "source": [
        "days = ['Monday', 'Tuesday', 'Wednesday', 'Thursday','Friday', 'Saturday', 'Sunday']\n",
        "for day in days:\n",
        "  print(day,end=\" | \")\n"
      ],
      "metadata": {
        "colab": {
          "base_uri": "https://localhost:8080/"
        },
        "id": "G97Nz06arHx0",
        "outputId": "ea557ccb-276a-4be4-e9b4-4320d7b2490c"
      },
      "execution_count": 153,
      "outputs": [
        {
          "output_type": "stream",
          "name": "stdout",
          "text": [
            "Monday | Tuesday | Wednesday | Thursday | Friday | Saturday | Sunday | "
          ]
        }
      ]
    },
    {
      "cell_type": "code",
      "source": [
        "days = set(['Monday', 'Tuesday', 'Wednesday', 'Thursday','Friday', 'Saturday', 'Sunday'])\n",
        "for day in days:\n",
        "  print(day,end=\" | \")"
      ],
      "metadata": {
        "colab": {
          "base_uri": "https://localhost:8080/"
        },
        "id": "HL45rH4xsG7G",
        "outputId": "73a202b5-da6b-48ac-fac0-a984d31baaac"
      },
      "execution_count": 154,
      "outputs": [
        {
          "output_type": "stream",
          "name": "stdout",
          "text": [
            "Monday | Tuesday | Friday | Thursday | Wednesday | Sunday | Saturday | "
          ]
        }
      ]
    },
    {
      "cell_type": "code",
      "source": [
        "days = {\n",
        "    'mon': 'Monday',\n",
        "    'tue': 'Tuesday',\n",
        "    'wed': 'Wednesday',\n",
        "    'thu': 'Thursday',\n",
        "    'fri': 'Friday',\n",
        "    'sat': 'Saturday',\n",
        "    'sun': 'Sunday'\n",
        "}\n",
        "print('Getting KEY value')\n",
        "for day in days: # get into each key in the dictionary\n",
        "  print(day,end=\" | \")\n",
        "print()\n",
        "print('Getting the VALUES stored in the dictionary')\n",
        "for day in days.values(): # get into each value in the dictionary\n",
        "  print(day,end=\" | \")\n",
        "print()\n",
        "print('Getting the KEY and VALUES stored in the dictionary')\n",
        "for day in days.items(): #get into each key and its value as a tuple stracture\n",
        "  print(day,end=\" | \")\n",
        "\n",
        "print()\n",
        "print('Getting the KEY and VALUES stored in the dictionary')\n",
        "for index,day in enumerate(days.items()): #get into each key and its value as a tuple stracture\n",
        "  print(index,day,end=\" | \")\n"
      ],
      "metadata": {
        "colab": {
          "base_uri": "https://localhost:8080/"
        },
        "id": "RrFkOpYHslbl",
        "outputId": "3c296705-925b-4c11-8287-f98fc44a671f"
      },
      "execution_count": 162,
      "outputs": [
        {
          "output_type": "stream",
          "name": "stdout",
          "text": [
            "Getting KEY value\n",
            "mon | tue | wed | thu | fri | sat | sun | \n",
            "Getting the VALUES stored in the dictionary\n",
            "Monday | Tuesday | Wednesday | Thursday | Friday | Saturday | Sunday | \n",
            "Getting the KEY and VALUES stored in the dictionary\n",
            "('mon', 'Monday') | ('tue', 'Tuesday') | ('wed', 'Wednesday') | ('thu', 'Thursday') | ('fri', 'Friday') | ('sat', 'Saturday') | ('sun', 'Sunday') | \n",
            "Getting the KEY and VALUES stored in the dictionary\n",
            "0 ('mon', 'Monday') | 1 ('tue', 'Tuesday') | 2 ('wed', 'Wednesday') | 3 ('thu', 'Thursday') | 4 ('fri', 'Friday') | 5 ('sat', 'Saturday') | 6 ('sun', 'Sunday') | "
          ]
        }
      ]
    }
  ]
}