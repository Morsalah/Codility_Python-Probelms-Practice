{
  "nbformat": 4,
  "nbformat_minor": 0,
  "metadata": {
    "colab": {
      "provenance": [],
      "authorship_tag": "ABX9TyMYAOP0oHPeFBHcvW7ntEM/",
      "include_colab_link": true
    },
    "kernelspec": {
      "name": "python3",
      "display_name": "Python 3"
    },
    "language_info": {
      "name": "python"
    }
  },
  "cells": [
    {
      "cell_type": "markdown",
      "metadata": {
        "id": "view-in-github",
        "colab_type": "text"
      },
      "source": [
        "<a href=\"https://colab.research.google.com/github/Morsalah/Codility_Python-Probelms-Practice/blob/main/Sorting%7CTask_Triangle.ipynb\" target=\"_parent\"><img src=\"https://colab.research.google.com/assets/colab-badge.svg\" alt=\"Open In Colab\"/></a>"
      ]
    },
    {
      "cell_type": "markdown",
      "source": [
        "**Triangle**\n",
        "\n",
        "Determine whether a triangle can be built from a given set of edges"
      ],
      "metadata": {
        "id": "vLE5q25fLIoj"
      }
    },
    {
      "cell_type": "code",
      "execution_count": 3,
      "metadata": {
        "id": "nGmGskEULFbc"
      },
      "outputs": [],
      "source": [
        "def solution(A):\n",
        "    N = len(A)\n",
        "    if N < 3:\n",
        "        return 0\n",
        "    A.sort()\n",
        "    for i in range(N - 2):\n",
        "        if A[i] + A[i + 1] > A[i + 2]:\n",
        "            return 1\n",
        "    return 0\n"
      ]
    },
    {
      "cell_type": "code",
      "source": [],
      "metadata": {
        "id": "MdAz9eVXQ7xS"
      },
      "execution_count": null,
      "outputs": []
    }
  ]
}