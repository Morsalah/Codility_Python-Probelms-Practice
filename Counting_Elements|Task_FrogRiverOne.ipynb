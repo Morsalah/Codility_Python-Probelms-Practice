{
  "nbformat": 4,
  "nbformat_minor": 0,
  "metadata": {
    "colab": {
      "provenance": [],
      "authorship_tag": "ABX9TyNsxZOHuESSscgKKbkAb4ZB",
      "include_colab_link": true
    },
    "kernelspec": {
      "name": "python3",
      "display_name": "Python 3"
    },
    "language_info": {
      "name": "python"
    }
  },
  "cells": [
    {
      "cell_type": "markdown",
      "metadata": {
        "id": "view-in-github",
        "colab_type": "text"
      },
      "source": [
        "<a href=\"https://colab.research.google.com/github/Morsalah/Codility_Python-Probelms-Practice/blob/main/Counting_Elements%7CTask_FrogRiverOne.ipynb\" target=\"_parent\"><img src=\"https://colab.research.google.com/assets/colab-badge.svg\" alt=\"Open In Colab\"/></a>"
      ]
    },
    {
      "cell_type": "markdown",
      "source": [
        "**FrogRiverOne**\n",
        "\n",
        "Find the earliest time when a frog can jump to the other side of a river."
      ],
      "metadata": {
        "id": "QKwSnC7ahV7p"
      }
    },
    {
      "cell_type": "code",
      "execution_count": 1,
      "metadata": {
        "id": "zv_lpE2QgOUY"
      },
      "outputs": [],
      "source": [
        "def solution(X, A):\n",
        "    covered_positions = set()\n",
        "    for K in range(len(A)):\n",
        "        if 1 <= A[K] <= X:\n",
        "            covered_positions.add(A[K])\n",
        "        if len(covered_positions) == X:\n",
        "            return K\n",
        "    return -1\n",
        "\n"
      ]
    }
  ]
}