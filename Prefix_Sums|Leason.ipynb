{
  "nbformat": 4,
  "nbformat_minor": 0,
  "metadata": {
    "colab": {
      "provenance": [],
      "authorship_tag": "ABX9TyNxvya1e6ATr/s14rX8T7zP",
      "include_colab_link": true
    },
    "kernelspec": {
      "name": "python3",
      "display_name": "Python 3"
    },
    "language_info": {
      "name": "python"
    }
  },
  "cells": [
    {
      "cell_type": "markdown",
      "metadata": {
        "id": "view-in-github",
        "colab_type": "text"
      },
      "source": [
        "<a href=\"https://colab.research.google.com/github/Morsalah/Codility_Python-Probelms-Practice/blob/main/Prefix_Sums%7CLeason.ipynb\" target=\"_parent\"><img src=\"https://colab.research.google.com/assets/colab-badge.svg\" alt=\"Open In Colab\"/></a>"
      ]
    },
    {
      "cell_type": "markdown",
      "source": [
        "Counting prefix sums"
      ],
      "metadata": {
        "id": "8jJbNGUJDky3"
      }
    },
    {
      "cell_type": "code",
      "execution_count": 1,
      "metadata": {
        "id": "-c0EQZ7vRydq"
      },
      "outputs": [],
      "source": [
        "def prefix_sums(A):\n",
        "  n = len(A)\n",
        "  P = [0]*(n+1)\n",
        "  for K in range(1,n+1):\n",
        "    P[K] = P[K-1] + A[K-1]\n",
        "  return P"
      ]
    },
    {
      "cell_type": "markdown",
      "source": [
        "Total of one slice"
      ],
      "metadata": {
        "id": "1Znsp5avGYAG"
      }
    },
    {
      "cell_type": "code",
      "source": [
        "def count_total(P,x,y):\n",
        "  return P[y] - P[x-1]"
      ],
      "metadata": {
        "id": "3WME613vGcTY"
      },
      "execution_count": null,
      "outputs": []
    },
    {
      "cell_type": "markdown",
      "source": [
        "Exercise"
      ],
      "metadata": {
        "id": "LsWLbu4sHDCW"
      }
    },
    {
      "cell_type": "code",
      "source": [
        "def mushrooms(A, k, m):\n",
        "    n = len(A)\n",
        "    result = 0\n",
        "    pref = prefix_sums(A)\n",
        "\n",
        "# moving to the left up to p positions and then right up to the remaining allowed moves\n",
        "    for p in range(min(m, k) + 1):\n",
        "        left_pos = k - p\n",
        "        right_pos = min(n - 1, max(k, k + m - 2 * p))\n",
        "        result = max(result, count_total(pref, left_pos, right_pos))\n",
        "\n",
        "# moving to the right up to p positions and then left\n",
        "    for p in range(min(m + 1, n - k)):\n",
        "        right_pos = k + p\n",
        "        left_pos = max(0, min(k, k - (m - 2 * p)))\n",
        "        result = max(result, count_total(pref, left_pos, right_pos))\n",
        "\n",
        "    return result\n",
        "\n"
      ],
      "metadata": {
        "id": "kXhhhG4eOROg"
      },
      "execution_count": null,
      "outputs": []
    }
  ]
}