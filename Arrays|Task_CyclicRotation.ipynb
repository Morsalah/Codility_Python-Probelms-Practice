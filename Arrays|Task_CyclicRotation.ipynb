{
  "nbformat": 4,
  "nbformat_minor": 0,
  "metadata": {
    "colab": {
      "provenance": [],
      "authorship_tag": "ABX9TyPVP6SkJSwapLTSzgoFFB3c",
      "include_colab_link": true
    },
    "kernelspec": {
      "name": "python3",
      "display_name": "Python 3"
    },
    "language_info": {
      "name": "python"
    }
  },
  "cells": [
    {
      "cell_type": "markdown",
      "metadata": {
        "id": "view-in-github",
        "colab_type": "text"
      },
      "source": [
        "<a href=\"https://colab.research.google.com/github/Morsalah/Codility_Python-Probelms-Practice/blob/main/Arrays%7CTask_CyclicRotation.ipynb\" target=\"_parent\"><img src=\"https://colab.research.google.com/assets/colab-badge.svg\" alt=\"Open In Colab\"/></a>"
      ]
    },
    {
      "cell_type": "markdown",
      "source": [
        "**CyclicRotation**\n",
        "\n",
        "Rotate an array to the right by a given number of steps."
      ],
      "metadata": {
        "id": "k4xgbyzU2XL7"
      }
    },
    {
      "cell_type": "code",
      "source": [
        "def solution(A, K):\n",
        "    N = len(A)\n",
        "    if N == 0:\n",
        "        return A\n",
        "    K = K % N\n",
        "    if K == 0:\n",
        "        return A\n",
        "    return A[-K:] + A[:-K]\n"
      ],
      "metadata": {
        "id": "VFj2eZlZHoam"
      },
      "execution_count": null,
      "outputs": []
    }
  ]
}