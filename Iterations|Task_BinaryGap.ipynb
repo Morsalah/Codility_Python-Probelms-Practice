{
  "nbformat": 4,
  "nbformat_minor": 0,
  "metadata": {
    "colab": {
      "provenance": [],
      "authorship_tag": "ABX9TyNRBil8gxPvGekh8we5PFGj",
      "include_colab_link": true
    },
    "kernelspec": {
      "name": "python3",
      "display_name": "Python 3"
    },
    "language_info": {
      "name": "python"
    }
  },
  "cells": [
    {
      "cell_type": "markdown",
      "metadata": {
        "id": "view-in-github",
        "colab_type": "text"
      },
      "source": [
        "<a href=\"https://colab.research.google.com/github/Morsalah/Codility_Python-Probelms-Practice/blob/main/Iterations%7CTask_BinaryGap.ipynb\" target=\"_parent\"><img src=\"https://colab.research.google.com/assets/colab-badge.svg\" alt=\"Open In Colab\"/></a>"
      ]
    },
    {
      "cell_type": "markdown",
      "source": [
        "**BinaryGap**\n",
        "\n",
        "Find longest sequence of zeros in binary representation of an integer."
      ],
      "metadata": {
        "id": "Brw8Tsse3rAp"
      }
    },
    {
      "cell_type": "code",
      "source": [
        "from collections import Counter\n",
        "def solution(N):\n",
        "\n",
        "  Num = bin(N).replace(\"0b\", \"\")\n",
        "  n = len(Num)\n",
        "  Counter = 0\n",
        "  Counter_zeros = []\n",
        "  for digit in Num:\n",
        "    if digit == \"1\":\n",
        "        if Counter>0:\n",
        "          Counter_zeros.append(Counter)\n",
        "        Counter = 0\n",
        "    else:\n",
        "      Counter += 1\n",
        "\n",
        "  return max(Counter_zeros) if Counter_zeros else 0\n",
        "display(solution(1041))\n",
        "display(solution(32))\n",
        "\n",
        "\n"
      ],
      "metadata": {
        "colab": {
          "base_uri": "https://localhost:8080/",
          "height": 53
        },
        "id": "udASH-79Z6mm",
        "outputId": "3463d6c1-6063-4767-b519-7b188073d428"
      },
      "execution_count": 24,
      "outputs": [
        {
          "output_type": "display_data",
          "data": {
            "text/plain": [
              "5"
            ]
          },
          "metadata": {}
        },
        {
          "output_type": "display_data",
          "data": {
            "text/plain": [
              "0"
            ]
          },
          "metadata": {}
        }
      ]
    }
  ]
}