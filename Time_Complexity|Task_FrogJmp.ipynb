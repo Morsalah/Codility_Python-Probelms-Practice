{
  "nbformat": 4,
  "nbformat_minor": 0,
  "metadata": {
    "colab": {
      "provenance": [],
      "authorship_tag": "ABX9TyMHeYWxNhtQcqpLSOuniq0a",
      "include_colab_link": true
    },
    "kernelspec": {
      "name": "python3",
      "display_name": "Python 3"
    },
    "language_info": {
      "name": "python"
    }
  },
  "cells": [
    {
      "cell_type": "markdown",
      "metadata": {
        "id": "view-in-github",
        "colab_type": "text"
      },
      "source": [
        "<a href=\"https://colab.research.google.com/github/Morsalah/Codility_Python-Probelms-Practice/blob/main/Time_Complexity%7CTask_FrogJmp.ipynb\" target=\"_parent\"><img src=\"https://colab.research.google.com/assets/colab-badge.svg\" alt=\"Open In Colab\"/></a>"
      ]
    },
    {
      "cell_type": "markdown",
      "source": [
        "**FrogJmp:**\n",
        "\n",
        "Count minimal number of jumps from position X to Y."
      ],
      "metadata": {
        "id": "6au1pFUkSscz"
      }
    },
    {
      "cell_type": "code",
      "execution_count": null,
      "metadata": {
        "id": "tBoB9PDySlsn"
      },
      "outputs": [],
      "source": [
        "def solution(X, Y, D):\n",
        "    jumps = (Y-X)//D\n",
        "    if (Y-X)%D != 0:\n",
        "        jumps += 1\n",
        "    return jumps\n",
        ""
      ]
    }
  ]
}