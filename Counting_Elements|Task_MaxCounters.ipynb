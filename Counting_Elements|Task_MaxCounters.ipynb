{
  "nbformat": 4,
  "nbformat_minor": 0,
  "metadata": {
    "colab": {
      "provenance": [],
      "authorship_tag": "ABX9TyPvxvVybRDW4laPfNTBIkOD",
      "include_colab_link": true
    },
    "kernelspec": {
      "name": "python3",
      "display_name": "Python 3"
    },
    "language_info": {
      "name": "python"
    }
  },
  "cells": [
    {
      "cell_type": "markdown",
      "metadata": {
        "id": "view-in-github",
        "colab_type": "text"
      },
      "source": [
        "<a href=\"https://colab.research.google.com/github/Morsalah/Codility_Python-Probelms-Practice/blob/main/Counting_Elements%7CTask_MaxCounters.ipynb\" target=\"_parent\"><img src=\"https://colab.research.google.com/assets/colab-badge.svg\" alt=\"Open In Colab\"/></a>"
      ]
    },
    {
      "cell_type": "markdown",
      "source": [
        "**MaxCounters**\n",
        "\n",
        "Calculate the values of counters after applying all alternating operations: increase counter by 1; set value of all counters to current maximum."
      ],
      "metadata": {
        "id": "1rfXANV6_Z6O"
      }
    },
    {
      "cell_type": "code",
      "execution_count": 1,
      "metadata": {
        "id": "FSaBWFzR_Y3O"
      },
      "outputs": [],
      "source": [
        "def solution(N, A):\n",
        "    counter = [0] * N\n",
        "    max_counter = 0\n",
        "    current_min = 0\n",
        "    for op in A:\n",
        "        if 1 <= op <= N:\n",
        "            index = op - 1\n",
        "            if counter[index] < current_min:\n",
        "                counter[index] = current_min\n",
        "            counter[index] += 1\n",
        "            if counter[index] > max_counter:\n",
        "                max_counter = counter[index]\n",
        "        elif op == N + 1:\n",
        "            current_min = max_counter\n",
        "    for i in range(N):\n",
        "        if counter[i] < current_min:\n",
        "            counter[i] = current_min\n",
        "    return counter\n"
      ]
    }
  ]
}