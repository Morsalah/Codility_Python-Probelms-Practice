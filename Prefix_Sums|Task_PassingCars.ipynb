{
  "nbformat": 4,
  "nbformat_minor": 0,
  "metadata": {
    "colab": {
      "provenance": [],
      "authorship_tag": "ABX9TyMmUxeXTFCbO38KlISo5S7g",
      "include_colab_link": true
    },
    "kernelspec": {
      "name": "python3",
      "display_name": "Python 3"
    },
    "language_info": {
      "name": "python"
    }
  },
  "cells": [
    {
      "cell_type": "markdown",
      "metadata": {
        "id": "view-in-github",
        "colab_type": "text"
      },
      "source": [
        "<a href=\"https://colab.research.google.com/github/Morsalah/Codility_Python-Probelms-Practice/blob/main/Prefix_Sums%7CTask_PassingCars.ipynb\" target=\"_parent\"><img src=\"https://colab.research.google.com/assets/colab-badge.svg\" alt=\"Open In Colab\"/></a>"
      ]
    },
    {
      "cell_type": "markdown",
      "source": [
        "**PassingCars**\n",
        "\n",
        "Count the number of passing cars on the road."
      ],
      "metadata": {
        "id": "B65nPeMvTZdC"
      }
    },
    {
      "cell_type": "code",
      "execution_count": null,
      "metadata": {
        "id": "u55NNxftTNc-"
      },
      "outputs": [],
      "source": [
        "def solution(A):\n",
        "    east_cars = 0\n",
        "    passing_cars = 0\n",
        "    for car in A:\n",
        "        if car == 0:\n",
        "            east_cars += 1\n",
        "        else:\n",
        "            passing_cars += east_cars\n",
        "        if passing_cars > 1_000_000_000:\n",
        "            return -1\n",
        "    return passing_cars\n"
      ]
    }
  ]
}