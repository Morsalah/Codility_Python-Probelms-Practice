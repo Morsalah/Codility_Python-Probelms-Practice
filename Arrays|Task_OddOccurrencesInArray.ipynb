{
  "nbformat": 4,
  "nbformat_minor": 0,
  "metadata": {
    "colab": {
      "provenance": [],
      "authorship_tag": "ABX9TyO90m2aXoxKE13khDn5eW8D",
      "include_colab_link": true
    },
    "kernelspec": {
      "name": "python3",
      "display_name": "Python 3"
    },
    "language_info": {
      "name": "python"
    }
  },
  "cells": [
    {
      "cell_type": "markdown",
      "metadata": {
        "id": "view-in-github",
        "colab_type": "text"
      },
      "source": [
        "<a href=\"https://colab.research.google.com/github/Morsalah/Codility_Python-Probelms-Practice/blob/main/Arrays%7CTask_OddOccurrencesInArray.ipynb\" target=\"_parent\"><img src=\"https://colab.research.google.com/assets/colab-badge.svg\" alt=\"Open In Colab\"/></a>"
      ]
    },
    {
      "cell_type": "markdown",
      "source": [
        "**OddOccurrencesInArray**\n",
        "\n",
        "Find value that occurs in odd number of elements."
      ],
      "metadata": {
        "id": "Y789DMA-Iv4w"
      }
    },
    {
      "cell_type": "code",
      "execution_count": 4,
      "metadata": {
        "colab": {
          "base_uri": "https://localhost:8080/"
        },
        "id": "wpXikIZFIdag",
        "outputId": "d56b89fb-4dc3-4131-dfd6-62e35a95bb7e"
      },
      "outputs": [
        {
          "output_type": "execute_result",
          "data": {
            "text/plain": [
              "0"
            ]
          },
          "metadata": {},
          "execution_count": 4
        }
      ],
      "source": [
        "def solution(A):\n",
        "  Set = set()\n",
        "  A=sorted(A)\n",
        "  for item in A:\n",
        "    if item in Set:\n",
        "      Set.remove(item)\n",
        "    else:\n",
        "      Set.add(item)\n",
        "  return Set.pop()\n"
      ]
    }
  ]
}