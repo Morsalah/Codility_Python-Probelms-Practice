{
  "nbformat": 4,
  "nbformat_minor": 0,
  "metadata": {
    "colab": {
      "provenance": [],
      "authorship_tag": "ABX9TyN1KN08WXrwEmF6K3qE+Tcn",
      "include_colab_link": true
    },
    "kernelspec": {
      "name": "python3",
      "display_name": "Python 3"
    },
    "language_info": {
      "name": "python"
    }
  },
  "cells": [
    {
      "cell_type": "markdown",
      "metadata": {
        "id": "view-in-github",
        "colab_type": "text"
      },
      "source": [
        "<a href=\"https://colab.research.google.com/github/Morsalah/Codility_Python-Probelms-Practice/blob/main/Counting_elements%7CTask_PermCheck.ipynb\" target=\"_parent\"><img src=\"https://colab.research.google.com/assets/colab-badge.svg\" alt=\"Open In Colab\"/></a>"
      ]
    },
    {
      "cell_type": "markdown",
      "source": [
        "**PermCheck**\n",
        "\n",
        "Check whether array A is a permutation."
      ],
      "metadata": {
        "id": "ToFi2WpwqI_W"
      }
    },
    {
      "cell_type": "code",
      "execution_count": 16,
      "metadata": {
        "id": "O5JdtABYqFOI"
      },
      "outputs": [],
      "source": [
        "def solution(A):\n",
        "    N = len(A)\n",
        "    unique_numbers = set()\n",
        "    for number in A:\n",
        "        if number < 1 or number > N:\n",
        "            return 0\n",
        "        unique_numbers.add(number)\n",
        "    return 1 if len(unique_numbers) == N else 0\n"
      ]
    }
  ]
}