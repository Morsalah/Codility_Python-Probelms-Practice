{
  "nbformat": 4,
  "nbformat_minor": 0,
  "metadata": {
    "colab": {
      "provenance": [],
      "authorship_tag": "ABX9TyNkbxLtz/VOA0ynem3skve9",
      "include_colab_link": true
    },
    "kernelspec": {
      "name": "python3",
      "display_name": "Python 3"
    },
    "language_info": {
      "name": "python"
    }
  },
  "cells": [
    {
      "cell_type": "markdown",
      "metadata": {
        "id": "view-in-github",
        "colab_type": "text"
      },
      "source": [
        "<a href=\"https://colab.research.google.com/github/Morsalah/Codility_Python-Probelms-Practice/blob/main/Counting_elements%7CTask_MissingInteger.ipynb\" target=\"_parent\"><img src=\"https://colab.research.google.com/assets/colab-badge.svg\" alt=\"Open In Colab\"/></a>"
      ]
    },
    {
      "cell_type": "markdown",
      "source": [
        "**MissingInteger**\n",
        "\n",
        "Find the smallest positive integer that does not occur in a given sequence."
      ],
      "metadata": {
        "id": "cEumisjMLosM"
      }
    },
    {
      "cell_type": "code",
      "execution_count": 1,
      "metadata": {
        "id": "LZgyZ-2aLoKD"
      },
      "outputs": [],
      "source": [
        "def solution(A):\n",
        "    A = set(x for x in A if x > 0)\n",
        "    for i in range(1, len(A) + 2):\n",
        "        if i not in A:\n",
        "            return i"
      ]
    }
  ]
}