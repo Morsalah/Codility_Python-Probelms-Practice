{
  "nbformat": 4,
  "nbformat_minor": 0,
  "metadata": {
    "colab": {
      "provenance": [],
      "authorship_tag": "ABX9TyNbu3+yzjNM3PVEZW7Op3SR",
      "include_colab_link": true
    },
    "kernelspec": {
      "name": "python3",
      "display_name": "Python 3"
    },
    "language_info": {
      "name": "python"
    }
  },
  "cells": [
    {
      "cell_type": "markdown",
      "metadata": {
        "id": "view-in-github",
        "colab_type": "text"
      },
      "source": [
        "<a href=\"https://colab.research.google.com/github/Morsalah/Codility_Python-Probelms-Practice/blob/main/Time_Complexity%7CLesson.ipynb\" target=\"_parent\"><img src=\"https://colab.research.google.com/assets/colab-badge.svg\" alt=\"Open In Colab\"/></a>"
      ]
    },
    {
      "cell_type": "code",
      "source": [
        "def dominant(n):\n",
        "  result = 0\n",
        "  for i in range(n):\n",
        "      result += 1 ## Time complexity of O(n)\n",
        "  return result"
      ],
      "metadata": {
        "id": "dNeBfhT0td6W"
      },
      "execution_count": null,
      "outputs": []
    },
    {
      "cell_type": "markdown",
      "source": [
        "# 3.1. Comparison of different time complexities"
      ],
      "metadata": {
        "id": "9k_wuKuli4J0"
      }
    },
    {
      "cell_type": "code",
      "source": [
        "# Constant time of O(1)\n",
        "def constant(n):\n",
        "  result = n * n\n",
        "  return result"
      ],
      "metadata": {
        "id": "ZbPJR_IxvDCV"
      },
      "execution_count": null,
      "outputs": []
    },
    {
      "cell_type": "code",
      "source": [
        "# Logarithmic time O(log n)\n",
        "def logarithmic(n):\n",
        "  result = 1\n",
        "  while n > 1:\n",
        "        n //= 2\n",
        "        result += n\n",
        "  return result"
      ],
      "metadata": {
        "id": "BHyod5_Wy2xu"
      },
      "execution_count": null,
      "outputs": []
    },
    {
      "cell_type": "code",
      "source": [
        "# Linear time O(n)\n",
        "def linear(n,A):\n",
        "  for i in range(n):\n",
        "    if A[i]==0:\n",
        "      return 0\n",
        "  return 1\n"
      ],
      "metadata": {
        "id": "Umjonckwzf2Q"
      },
      "execution_count": null,
      "outputs": []
    },
    {
      "cell_type": "code",
      "source": [
        "# Quadratic time O(n2)\n",
        "def quadratic(n):\n",
        "  result = 0\n",
        "  for i in range(n):\n",
        "    for j in range(n):\n",
        "      result += 1\n",
        "  return result"
      ],
      "metadata": {
        "id": "YMAF57Ho0kjY"
      },
      "execution_count": null,
      "outputs": []
    },
    {
      "cell_type": "code",
      "source": [
        "# Linear time O(n+m)\n",
        "def linear2(n,m):\n",
        "  result = 0\n",
        "  for i in range(n):\n",
        "    result += 1\n",
        "  for j in range(m):\n",
        "    result += 1\n",
        "  return result"
      ],
      "metadata": {
        "id": "YkbjDSpV1GXK"
      },
      "execution_count": null,
      "outputs": []
    },
    {
      "cell_type": "markdown",
      "source": [
        "# 3.2. Time limit"
      ],
      "metadata": {
        "id": "Qw-RVmdNi4gz"
      }
    },
    {
      "cell_type": "markdown",
      "source": [
        "# 3.3. Space complexity"
      ],
      "metadata": {
        "id": "zOqXkKJ4i43b"
      }
    },
    {
      "cell_type": "markdown",
      "source": [
        "Example\n",
        "\n",
        "Problem: You are given an integer n. Count the total of 1 + 2 + . . . + n."
      ],
      "metadata": {
        "id": "vR2RN1B26Ge-"
      }
    },
    {
      "cell_type": "code",
      "source": [
        "# Time Complexity O(n)\n",
        "def count(n):\n",
        "  result = 0\n",
        "  for i in range(n):\n",
        "    result += i+1\n",
        "  return result\n",
        "count(5)\n"
      ],
      "metadata": {
        "colab": {
          "base_uri": "https://localhost:8080/"
        },
        "id": "6juTGkbf6JUc",
        "outputId": "084f4e32-feca-4ae8-a7a2-48fb56234256"
      },
      "execution_count": 2,
      "outputs": [
        {
          "output_type": "execute_result",
          "data": {
            "text/plain": [
              "15"
            ]
          },
          "metadata": {},
          "execution_count": 2
        }
      ]
    },
    {
      "cell_type": "code",
      "source": [
        "# Time Complexity O(1)\n",
        "def count(n):\n",
        "  return n*(n+1)//2\n",
        "count(5)\n"
      ],
      "metadata": {
        "colab": {
          "base_uri": "https://localhost:8080/"
        },
        "id": "YsmW6pI47sgw",
        "outputId": "16a7d025-ef42-45b0-e3a1-e07c5368f4a4"
      },
      "execution_count": 3,
      "outputs": [
        {
          "output_type": "execute_result",
          "data": {
            "text/plain": [
              "15"
            ]
          },
          "metadata": {},
          "execution_count": 3
        }
      ]
    }
  ]
}