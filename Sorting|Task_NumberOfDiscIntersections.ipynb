{
  "nbformat": 4,
  "nbformat_minor": 0,
  "metadata": {
    "colab": {
      "provenance": [],
      "authorship_tag": "ABX9TyMCOCIUfxztuqVr7Y8sSFnn",
      "include_colab_link": true
    },
    "kernelspec": {
      "name": "python3",
      "display_name": "Python 3"
    },
    "language_info": {
      "name": "python"
    }
  },
  "cells": [
    {
      "cell_type": "markdown",
      "metadata": {
        "id": "view-in-github",
        "colab_type": "text"
      },
      "source": [
        "<a href=\"https://colab.research.google.com/github/Morsalah/Codility_Python-Probelms-Practice/blob/main/Sorting%7CTask_NumberOfDiscIntersections.ipynb\" target=\"_parent\"><img src=\"https://colab.research.google.com/assets/colab-badge.svg\" alt=\"Open In Colab\"/></a>"
      ]
    },
    {
      "cell_type": "markdown",
      "source": [
        "**NumberOfDiscIntersections**\n",
        "\n",
        "Compute the number of intersections in a sequence of discs."
      ],
      "metadata": {
        "id": "SxJCGOUnVBDN"
      }
    },
    {
      "cell_type": "code",
      "execution_count": null,
      "metadata": {
        "id": "EINIDAeKU97Z"
      },
      "outputs": [],
      "source": [
        "def solution(A):\n",
        "    N = len(A)\n",
        "    if N == 0:\n",
        "        return 0\n",
        "\n",
        "    edges = []\n",
        "    for i in range(N):\n",
        "        edges.append((i - A[i], 'L'))\n",
        "        edges.append((i + A[i], 'R'))\n",
        "    edges.sort()\n",
        "\n",
        "    intersections = 0\n",
        "    active_discs = 0\n",
        "\n",
        "    for position, edge_type in edges:\n",
        "        if edge_type == 'L':\n",
        "            intersections += active_discs\n",
        "            active_discs += 1\n",
        "        else:\n",
        "            active_discs -= 1\n",
        "\n",
        "        if intersections > 10_000_000:\n",
        "            return -1\n",
        "\n",
        "    return intersections\n"
      ]
    }
  ]
}