{
  "nbformat": 4,
  "nbformat_minor": 0,
  "metadata": {
    "colab": {
      "provenance": [],
      "authorship_tag": "ABX9TyNQdKpL/jcfE2vNo7lGbPEL",
      "include_colab_link": true
    },
    "kernelspec": {
      "name": "python3",
      "display_name": "Python 3"
    },
    "language_info": {
      "name": "python"
    }
  },
  "cells": [
    {
      "cell_type": "markdown",
      "metadata": {
        "id": "view-in-github",
        "colab_type": "text"
      },
      "source": [
        "<a href=\"https://colab.research.google.com/github/Morsalah/Codility_Python-Probelms-Practice/blob/main/Sorting%7CTask_MaxProductOfThree.ipynb\" target=\"_parent\"><img src=\"https://colab.research.google.com/assets/colab-badge.svg\" alt=\"Open In Colab\"/></a>"
      ]
    },
    {
      "cell_type": "markdown",
      "source": [
        "**MaxProductOfThree**\n",
        "\n",
        "Maximize A[P] * A[Q] * A[R] for any triplet (P, Q, R)."
      ],
      "metadata": {
        "id": "1EMKmi6KI1Vg"
      }
    },
    {
      "cell_type": "code",
      "execution_count": null,
      "metadata": {
        "id": "3sSSWRKvInbT"
      },
      "outputs": [],
      "source": [
        "def solution(A):\n",
        "    A.sort()\n",
        "    return max(A[0] * A[-2] * A[-1], A[0] * A[1] * A[2])"
      ]
    }
  ]
}